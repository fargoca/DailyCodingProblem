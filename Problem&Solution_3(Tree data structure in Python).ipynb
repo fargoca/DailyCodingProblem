{
 "cells": [
  {
   "cell_type": "code",
   "execution_count": null,
   "metadata": {},
   "outputs": [],
   "source": [
    "#serialize and deserialise functions to convert tree in array and array back in to tree"
   ]
  },
  {
   "cell_type": "code",
   "execution_count": 64,
   "metadata": {},
   "outputs": [],
   "source": [
    "class Node:\n",
    "    def __init__(self,val=None,left=None,right=None):\n",
    "        self.val=val\n",
    "        self.left=left\n",
    "        self.right=right\n",
    "    \n",
    "    def Show(self):\n",
    "        print(self.val)\n",
    "        \n",
    "    def insertdata(self,val):\n",
    "        self.val=val"
   ]
  },
  {
   "cell_type": "code",
   "execution_count": 98,
   "metadata": {},
   "outputs": [],
   "source": [
    "def Deserialize(node,val,lst,loc):    \n",
    "    node.insertdata(val)\n",
    "    print(val)\n",
    "    if 2*loc+1 in range(len(lst)):\n",
    "        node.left=Node()\n",
    "        insert(node.left,lst[2*loc+1],lst,2*loc+1)\n",
    "    else: \n",
    "        return\n",
    "    if 2*loc+2 in range(len(lst)):\n",
    "        node.right=Node()\n",
    "        insert(node.right,lst[2*loc+2],lst,2*loc+2)\n",
    "    else: \n",
    "        return"
   ]
  },
  {
   "cell_type": "code",
   "execution_count": 99,
   "metadata": {},
   "outputs": [
    {
     "name": "stdout",
     "output_type": "stream",
     "text": [
      "a\n",
      "d\n",
      "g\n",
      "p\n",
      "b\n",
      "f\n",
      "k\n",
      "c\n"
     ]
    }
   ],
   "source": [
    "inp=['a','d','f','g','b','k','c','p']\n",
    "root=Node()\n",
    "Deserialize(root,inp[0],inp,0)"
   ]
  },
  {
   "cell_type": "code",
   "execution_count": 107,
   "metadata": {},
   "outputs": [
    {
     "data": {
      "text/plain": [
       "'c'"
      ]
     },
     "execution_count": 107,
     "metadata": {},
     "output_type": "execute_result"
    }
   ],
   "source": [
    "root.right.right.val"
   ]
  },
  {
   "cell_type": "code",
   "execution_count": 131,
   "metadata": {},
   "outputs": [],
   "source": [
    "def serialize(node,out,l):\n",
    "    out.append(node.val)\n",
    "    loc.append(l)\n",
    "    if node.left==None:\n",
    "        return\n",
    "    else:\n",
    "        serialize(node.left,out,2*l+1)\n",
    "    if node.right==None:\n",
    "        return\n",
    "    else:\n",
    "        serialize(node.right,out,2*l+2)"
   ]
  },
  {
   "cell_type": "code",
   "execution_count": 135,
   "metadata": {},
   "outputs": [],
   "source": [
    "out1=[]\n",
    "out2=[]\n",
    "loc=[]\n",
    "serialize(root,out1,0)"
   ]
  },
  {
   "cell_type": "code",
   "execution_count": 139,
   "metadata": {},
   "outputs": [
    {
     "data": {
      "text/plain": [
       "['a', 'd', 'g', 'p', 'b', 'f', 'k', 'c']"
      ]
     },
     "execution_count": 139,
     "metadata": {},
     "output_type": "execute_result"
    }
   ],
   "source": [
    "out1"
   ]
  },
  {
   "cell_type": "code",
   "execution_count": 140,
   "metadata": {},
   "outputs": [
    {
     "data": {
      "text/plain": [
       "[0, 1, 3, 7, 4, 2, 5, 6]"
      ]
     },
     "execution_count": 140,
     "metadata": {},
     "output_type": "execute_result"
    }
   ],
   "source": [
    "loc"
   ]
  },
  {
   "cell_type": "code",
   "execution_count": 142,
   "metadata": {},
   "outputs": [],
   "source": [
    "out2=out1\n",
    "for i in range(len(out1)):\n",
    "    l=loc[i]\n",
    "    out2[l]=out[i]"
   ]
  },
  {
   "cell_type": "code",
   "execution_count": 143,
   "metadata": {},
   "outputs": [
    {
     "data": {
      "text/plain": [
       "['a', 'd', 'f', 'g', 'b', 'k', 'c', 'p']"
      ]
     },
     "execution_count": 143,
     "metadata": {},
     "output_type": "execute_result"
    }
   ],
   "source": [
    "out2"
   ]
  },
  {
   "cell_type": "code",
   "execution_count": null,
   "metadata": {},
   "outputs": [],
   "source": []
  }
 ],
 "metadata": {
  "kernelspec": {
   "display_name": "Python 3",
   "language": "python",
   "name": "python3"
  },
  "language_info": {
   "codemirror_mode": {
    "name": "ipython",
    "version": 3
   },
   "file_extension": ".py",
   "mimetype": "text/x-python",
   "name": "python",
   "nbconvert_exporter": "python",
   "pygments_lexer": "ipython3",
   "version": "3.6.5"
  }
 },
 "nbformat": 4,
 "nbformat_minor": 4
}
